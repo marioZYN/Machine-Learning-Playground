{
 "cells": [
  {
   "cell_type": "code",
   "execution_count": 13,
   "metadata": {},
   "outputs": [],
   "source": [
    "import numpy as np\n",
    "import matplotlib.pyplot as plt\n",
    "%matplotlib inline"
   ]
  },
  {
   "cell_type": "code",
   "execution_count": 12,
   "metadata": {},
   "outputs": [
    {
     "data": {
      "text/plain": [
       "[<matplotlib.lines.Line2D at 0x10bb6f630>]"
      ]
     },
     "execution_count": 12,
     "metadata": {},
     "output_type": "execute_result"
    },
    {
     "data": {
      "image/png": "[encoded data removed]",
      "text/plain": [
       "<matplotlib.figure.Figure at 0x10bb6fc88>"
      ]
     },
     "metadata": {},
     "output_type": "display_data"
    }
   ],
   "source": [
    "X = [[2,4],[3,1],[2,2],[1,1],[-1,1],[-1,-2]]\n",
    "y = [1,1,1,-1,-1,-1]\n",
    "plt.plot([x[0] for x in X[:3]], [x[1] for x in X[:3]], 'x')\n",
    "plt.plot([x[0] for x in X[3:]], [x[1] for x in X[3:]], 'o')"
   ]
  },
  {
   "cell_type": "code",
   "execution_count": 38,
   "metadata": {},
   "outputs": [
    {
     "name": "stdout",
     "output_type": "stream",
     "text": [
      "total iteration is 54\n",
      "W is  [ 0.3  0.1 -0.5]\n"
     ]
    }
   ],
   "source": [
    "# perceptron algorithm\n",
    "lr = 0.1\n",
    "W = np.array([0,0,0])\n",
    "MAX = 100\n",
    "\n",
    "flag = True\n",
    "count = 0\n",
    "while flag:\n",
    "    flag = False\n",
    "    if count > MAX:\n",
    "        break\n",
    "    for i, x in enumerate(X):\n",
    "        count += 1\n",
    "        data = np.array(x + [1])\n",
    "        yp = np.dot(data, W)\n",
    "        if y[i]*yp <= 0:\n",
    "            flag = True\n",
    "            W = W + lr*data*y[i]\n",
    "        else:\n",
    "            continue\n",
    "print(f'total iteration is {count}')\n",
    "print('W is ', W)"
   ]
  },
  {
   "cell_type": "code",
   "execution_count": 39,
   "metadata": {},
   "outputs": [
    {
     "data": {
      "text/plain": [
       "[<matplotlib.lines.Line2D at 0x111b116a0>]"
      ]
     },
     "execution_count": 39,
     "metadata": {},
     "output_type": "execute_result"
    },
    {
     "data": {
      "image/png": "[encoded data removed]",
      "text/plain": [
       "<matplotlib.figure.Figure at 0x111ce07f0>"
      ]
     },
     "metadata": {},
     "output_type": "display_data"
    }
   ],
   "source": [
    "xx = [i for i in np.arange(-5, 5, 0.001)]\n",
    "yy = [-W[0]/W[1]*i -W[2]/W[1] for i in xx]\n",
    "plt.plot([x[0] for x in X[:3]], [x[1] for x in X[:3]], 'x')\n",
    "plt.plot([x[0] for x in X[3:]], [x[1] for x in X[3:]], 'o')\n",
    "plt.plot(xx, yy)"
   ]
  },
  {
   "cell_type": "code",
   "execution_count": 97,
   "metadata": {},
   "outputs": [],
   "source": [
    "class Perceptron:\n",
    "    def __init__(self, X, y):\n",
    "        self.X = X\n",
    "        self.y = y\n",
    "        self.W = np.zeros(X.shape[1])\n",
    "        self.b = 0\n",
    "    \n",
    "    def train(self, lr=0.1, max_iter=1000):\n",
    "        c = 0\n",
    "        while c < max_iter:\n",
    "            terminate = True\n",
    "            for i,x in enumerate(self.X):\n",
    "                c += 1\n",
    "                if c >= max_iter:\n",
    "                    terminate = True\n",
    "                    break\n",
    "                yp = np.dot(self.W, x) + self.b\n",
    "                if yp*self.y[i] <= 0:\n",
    "                    self.W = self.W + lr*self.y[i]*x\n",
    "                    self.b = self.b + lr*self.y[i]\n",
    "                    terminate = False\n",
    "                else:\n",
    "                    continue\n",
    "            if terminate:\n",
    "                break\n",
    "        print(f'model trained for {count} iterations')\n",
    "    def predict(self, x):\n",
    "        return x*self.W + self.b"
   ]
  },
  {
   "cell_type": "code",
   "execution_count": 98,
   "metadata": {},
   "outputs": [],
   "source": [
    "perceptron = Perceptron(np.array(X), np.array(y))"
   ]
  },
  {
   "cell_type": "code",
   "execution_count": 99,
   "metadata": {},
   "outputs": [
    {
     "name": "stdout",
     "output_type": "stream",
     "text": [
      "model trained for 54 iterations\n"
     ]
    }
   ],
   "source": [
    "perceptron.train()"
   ]
  },
  {
   "cell_type": "code",
   "execution_count": 100,
   "metadata": {},
   "outputs": [
    {
     "data": {
      "text/plain": [
       "[<matplotlib.lines.Line2D at 0x1125c4dd8>]"
      ]
     },
     "execution_count": 100,
     "metadata": {},
     "output_type": "execute_result"
    },
    {
     "data": {
      "image/png": "[encoded data removed]",
      "text/plain": [
       "<matplotlib.figure.Figure at 0x11199c400>"
      ]
     },
     "metadata": {},
     "output_type": "display_data"
    }
   ],
   "source": [
    "W, b = perceptron.W, perceptron.b\n",
    "xx = np.linspace(-5,5,1000)\n",
    "yy = [-W[0]/W[1]*i -b/W[1] for i in xx]\n",
    "plt.plot([x[0] for x in X[:3]], [x[1] for x in X[:3]], 'x')\n",
    "plt.plot([x[0] for x in X[3:]], [x[1] for x in X[3:]], 'o')\n",
    "plt.plot(xx, yy)"
   ]
  },
  {
   "cell_type": "code",
   "execution_count": 102,
   "metadata": {},
   "outputs": [
    {
     "data": {
      "text/plain": [
       "array([285])"
      ]
     },
     "execution_count": 102,
     "metadata": {},
     "output_type": "execute_result"
    }
   ],
   "source": [
    "np.dot(np.arange(10), np.arange(10).reshape(10,1))"
   ]
  },
  {
   "cell_type": "code",
   "execution_count": null,
   "metadata": {},
   "outputs": [],
   "source": []
  }
 ],
 "metadata": {
  "kernelspec": {
   "display_name": "Python 3",
   "language": "python",
   "name": "python3"
  },
  "language_info": {
   "codemirror_mode": {
    "name": "ipython",
    "version": 3
   },
   "file_extension": ".py",
   "mimetype": "text/x-python",
   "name": "python",
   "nbconvert_exporter": "python",
   "pygments_lexer": "ipython3",
   "version": "3.6.8"
  }
 },
 "nbformat": 4,
 "nbformat_minor": 2
}
