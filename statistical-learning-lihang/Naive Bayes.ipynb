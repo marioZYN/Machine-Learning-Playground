{
 "cells": [
  {
   "cell_type": "code",
   "execution_count": 1,
   "metadata": {},
   "outputs": [],
   "source": [
    "import numpy as np\n",
    "import numbers\n",
    "from sklearn.datasets import load_iris"
   ]
  },
  {
   "cell_type": "code",
   "execution_count": 2,
   "metadata": {},
   "outputs": [],
   "source": [
    "class NavieBayes:\n",
    "    def __init__(self):\n",
    "        self.X = None\n",
    "        self.y = None\n",
    "        self.size = None\n",
    "        self.classes = set()\n",
    "        self.dic_discrete = {}\n",
    "        self.dic_continous = {}\n",
    "    \n",
    "    def fit(self, X, y):\n",
    "        self.X = X\n",
    "        self.y = y\n",
    "        assert type(X) == type(np.asarray([])), f\"X should be a numpy array, not {type(X)}\"\n",
    "        assert type(y) == type(np.asarray([])), f\"y should be a numpy array, not {type(y)}\"\n",
    "        assert len(X) == len(y), \"X and y should have same data size\"\n",
    "        self.size = len(X)\n",
    "        self.classes = set(y)\n",
    "       \n",
    "        # store data in discrete or continous dic\n",
    "        for i, x in enumerate(X):\n",
    "            cls = y[i]\n",
    "            for feature_idx, feature in enumerate(x):\n",
    "                feature_type = self.get_type(feature)\n",
    "                if feature_type == 'discrete':\n",
    "                    self.dic_discrete.setdefault(cls, {}) \\\n",
    "                    .setdefault(feature_idx, []).append(feature)\n",
    "                elif feature_type == 'continous':\n",
    "                    self.dic_continous.setdefault(cls, {}) \\\n",
    "                    .setdefault(feature_idx, []).append(feature)\n",
    "        \n",
    "        # calculate mean and standard deviation for continous type\n",
    "        for _, dic in self.dic_continous.items():\n",
    "            for k, v in dic.items():\n",
    "                miu = np.mean(v)\n",
    "                std = np.sqrt(np.sum((np.asarray(v) - miu)**2) / (self.size - 1))\n",
    "                dic[k] = (miu, std)\n",
    "    \n",
    "    def get_type(self, feature):\n",
    "        if type(feature) == 'str' or type(feature) == 'bool':\n",
    "            return 'discrete'\n",
    "        elif isinstance(feature, numbers.Number):\n",
    "            return 'continous'\n",
    "        else:\n",
    "            assert False, f'Error, the feature type is {type(feature)}, not supported!'\n",
    "                \n",
    "    def cal_prob(self, cls, i, v, feature_type):\n",
    "        if feature_type == 'discrete':\n",
    "            arr = self.dic_discrete[cls][i]\n",
    "            if np.sum(arr == v) == 0:\n",
    "                prob = 1 / (len(arr) + len(set(arr)) + 1)\n",
    "            else:\n",
    "                prob = np.sum(arr == v) / np.sum(arr)\n",
    "        elif feature_type == 'continous':\n",
    "            miu, std = self.dic_continous[cls][i][0], self.dic_continous[cls][i][1]\n",
    "            prob = 1 / np.sqrt(2 * np.pi * std**2) * np.exp(-(v - miu)**2/(2*std**2))\n",
    "        \n",
    "        return prob\n",
    "    \n",
    "    def predict(self, x):\n",
    "        scores = []\n",
    "        for cls in self.classes:\n",
    "            score = 1\n",
    "            for idx, feature in enumerate(x):\n",
    "                feature_type = self.get_type(feature)\n",
    "                score *= self.cal_prob(cls, idx, feature, feature_type)\n",
    "            scores.append((cls, score))\n",
    "        return sorted(scores, key=lambda x: x[1], reverse=True)[0][0]"
   ]
  },
  {
   "cell_type": "code",
   "execution_count": 3,
   "metadata": {},
   "outputs": [
    {
     "name": "stdout",
     "output_type": "stream",
     "text": [
      "(150, 4) (150,)\n"
     ]
    }
   ],
   "source": [
    "iris = load_iris()\n",
    "X, y = iris.data, iris.target\n",
    "print(X.shape, y.shape)"
   ]
  },
  {
   "cell_type": "code",
   "execution_count": 4,
   "metadata": {},
   "outputs": [],
   "source": [
    "model = NavieBayes()\n",
    "model.fit(X, y)"
   ]
  },
  {
   "cell_type": "code",
   "execution_count": 5,
   "metadata": {},
   "outputs": [
    {
     "data": {
      "text/plain": [
       "0"
      ]
     },
     "execution_count": 5,
     "metadata": {},
     "output_type": "execute_result"
    }
   ],
   "source": [
    "model.predict(X[11])"
   ]
  }
 ],
 "metadata": {
  "kernelspec": {
   "display_name": "Python 3",
   "language": "python",
   "name": "python3"
  },
  "language_info": {
   "codemirror_mode": {
    "name": "ipython",
    "version": 3
   },
   "file_extension": ".py",
   "mimetype": "text/x-python",
   "name": "python",
   "nbconvert_exporter": "python",
   "pygments_lexer": "ipython3",
   "version": "3.6.8"
  }
 },
 "nbformat": 4,
 "nbformat_minor": 2
}
