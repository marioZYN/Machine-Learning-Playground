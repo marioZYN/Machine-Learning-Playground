{
 "cells": [
  {
   "cell_type": "markdown",
   "metadata": {},
   "source": [
    "# 感知机算法\n",
    "\n",
    "## 基本形式\n",
    "\n",
    "我们想学习一个超平面用来**正确**分割数据集到正负两种类别。感知机算法为错误例驱动。\n",
    "\n",
    "$ T = \\{(x_1, y_1), (x_2, y_2), ..., (x_N, y_N)\\}, x \\in R^N, y \\in \\{-1, +1\\} $  \n",
    "\n",
    "$\\widetilde{y} = sign(W\\cdot x + b) $  \n",
    "\n",
    "$loss = \\sum_{i\\in M}y_i(W\\cdot x_i+b)$\n",
    "\n",
    "伪码：\n",
    "1. 初始化 $W, b$\n",
    "2. 遍历所有数据，对于每个数据 $(x_i, y_i)$，如果 $y_i(W\\cdot{x_i}+b)\\le0$，则更新数据，否则继续遍历。  \n",
    "$W = W + \\eta y_i x_i $  \n",
    "$b = b + \\eta y_i $\n",
    "3. 当所有数据都被正确分类，或者达到最大循环次数时，停止。\n",
    "    "
   ]
  },
  {
   "cell_type": "code",
   "execution_count": 1,
   "metadata": {},
   "outputs": [],
   "source": [
    "import numpy as np\n",
    "import matplotlib.pyplot as plt\n",
    "%matplotlib inline"
   ]
  },
  {
   "cell_type": "code",
   "execution_count": 2,
   "metadata": {},
   "outputs": [],
   "source": [
    "class Perceptron:\n",
    "    def __init__(self, lr=1, max_iter=1000):\n",
    "        self.lr = lr\n",
    "        self.max_iter = max_iter\n",
    "        self.W = None\n",
    "        self.b = None\n",
    "    \n",
    "    def fit(self, X, y):\n",
    "        count, terminate = 0, False\n",
    "        self.W, self.b = np.zeros(X.shape[1]), 0\n",
    "        while True:\n",
    "            terminate = True\n",
    "            for i, x in enumerate(X):\n",
    "                count += 1\n",
    "                if count >= self.max_iter:\n",
    "                    terminate = True\n",
    "                    break\n",
    "                yp = np.dot(self.W, x) + self.b\n",
    "                if yp*y[i] <= 0:\n",
    "                    self.W = self.W + self.lr*y[i]*x\n",
    "                    self.b = self.b + self.lr*y[i]\n",
    "                    terminate = False\n",
    "                else:\n",
    "                    continue\n",
    "            if terminate:\n",
    "                break\n",
    "        print(f'model is trained for {count} iterations')\n",
    "    \n",
    "    def predict(self, x):\n",
    "        return np.dot(self.W, x) + self.b"
   ]
  },
  {
   "cell_type": "code",
   "execution_count": 4,
   "metadata": {},
   "outputs": [],
   "source": [
    "from sklearn.datasets import load_iris\n",
    "iris = load_iris()"
   ]
  },
  {
   "cell_type": "code",
   "execution_count": 5,
   "metadata": {},
   "outputs": [],
   "source": [
    "X, y = iris.data, iris.target\n",
    "# select only two classes\n",
    "X = X[(y == 0) | (y == 1)]\n",
    "y = y[(y == 0) | (y == 1)]\n",
    "# select only two features for illussion purpose\n",
    "X = X[:, 0:3:2]\n",
    "# convert y values into {-1, +1}\n",
    "y = np.array([1 if x==1 else -1 for x in y])"
   ]
  },
  {
   "cell_type": "code",
   "execution_count": 6,
   "metadata": {},
   "outputs": [
    {
     "data": {
      "text/plain": [
       "<matplotlib.legend.Legend at 0x1a108b8fd0>"
      ]
     },
     "execution_count": 6,
     "metadata": {},
     "output_type": "execute_result"
    },
    {
     "data": {
      "image/png": "[encoded data removed]",
      "text/plain": [
       "<matplotlib.figure.Figure at 0x1a0b8987b8>"
      ]
     },
     "metadata": {},
     "output_type": "display_data"
    }
   ],
   "source": [
    "plt.scatter(X[y==-1][:, 0], X[y==-1][:, 1], label='setosa')\n",
    "plt.scatter(X[y==1][:, 0], X[y==1][:, 1], label='versicolor')\n",
    "plt.xlabel('sepal length')\n",
    "plt.ylabel('petal length')\n",
    "plt.legend()"
   ]
  },
  {
   "cell_type": "code",
   "execution_count": 7,
   "metadata": {},
   "outputs": [
    {
     "name": "stdout",
     "output_type": "stream",
     "text": [
      "model is trained for 600 iterations\n"
     ]
    }
   ],
   "source": [
    "model = Perceptron()\n",
    "model.fit(X, y)"
   ]
  },
  {
   "cell_type": "code",
   "execution_count": 8,
   "metadata": {},
   "outputs": [],
   "source": [
    "points_x = np.linspace(3, 8, 100)\n",
    "points_y = -(model.W[0]*points_x + model.b)/model.W[1]"
   ]
  },
  {
   "cell_type": "code",
   "execution_count": 9,
   "metadata": {},
   "outputs": [
    {
     "data": {
      "text/plain": [
       "<matplotlib.legend.Legend at 0x1a13c589b0>"
      ]
     },
     "execution_count": 9,
     "metadata": {},
     "output_type": "execute_result"
    },
    {
     "data": {
      "image/png": "[encoded data removed]",
      "text/plain": [
       "<matplotlib.figure.Figure at 0x1a0b898668>"
      ]
     },
     "metadata": {},
     "output_type": "display_data"
    }
   ],
   "source": [
    "plt.plot(points_x, points_y)\n",
    "plt.scatter(X[y==-1][:, 0], X[y==-1][:, 1], label='setosa')\n",
    "plt.scatter(X[y==1][:, 0], X[y==1][:, 1], label='versicolor')\n",
    "plt.xlabel('sepal length')\n",
    "plt.ylabel('petal length')\n",
    "plt.legend()"
   ]
  },
  {
   "cell_type": "code",
   "execution_count": null,
   "metadata": {},
   "outputs": [],
   "source": []
  }
 ],
 "metadata": {
  "kernelspec": {
   "display_name": "Python 3",
   "language": "python",
   "name": "python3"
  },
  "language_info": {
   "codemirror_mode": {
    "name": "ipython",
    "version": 3
   },
   "file_extension": ".py",
   "mimetype": "text/x-python",
   "name": "python",
   "nbconvert_exporter": "python",
   "pygments_lexer": "ipython3",
   "version": "3.6.8"
  }
 },
 "nbformat": 4,
 "nbformat_minor": 2
}
